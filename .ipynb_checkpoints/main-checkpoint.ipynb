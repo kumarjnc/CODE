{
 "cells": [
  {
   "cell_type": "markdown",
   "metadata": {},
   "source": [
    "This is Lieb Lattice DOS"
   ]
  },
  {
   "cell_type": "code",
   "execution_count": null,
   "metadata": {},
   "outputs": [],
   "source": [
    "#! /bin/bash/python3\n",
    "import numpy as np # \n",
    "from numpy import tile\n",
    "import matplotlib.pyplot as plt\n",
    "#from numpy import linalg as LA\n",
    "from scipy import linalg as LA\n",
    "import math,cmath\n",
    "pi = math.pi\n",
    "cos = math.cos\n",
    "sin = math.sin\n",
    "#exp = cmath.exp\n",
    "exp=np.exp\n",
    "sqrt = math.sqrt\n",
    "#log=math.log\n",
    "log=np.log\n",
    "from numpy.linalg import inv\n",
    "from numpy import zeros\n",
    "import lieb\n",
    "\n",
    "# Now you can call defined function that module as follows\n",
    "t1=1.0\n",
    "t2=0.0\n",
    "a=1.0\n",
    "Nk=20\n",
    "mass=0.0\n",
    "dim=0.0\n",
    "totomega=400\n",
    "energy=-.01\n",
    "#Ef=25.0\n",
    "#temp=0.5\n",
    "lieb.band(t1,t2,a,Nk,mass,dim,totomega,square=False)\n",
    "#for temp in range(1,100):\n",
    "#\tg=square.fermi(energy , 0.0 , temp)\n",
    "#\tprint temp, g\n",
    "\n",
    "\n"
   ]
  }
 ],
 "metadata": {
  "anaconda-cloud": {},
  "kernelspec": {
   "display_name": "Python 3",
   "language": "python",
   "name": "python3"
  },
  "language_info": {
   "codemirror_mode": {
    "name": "ipython",
    "version": 3
   },
   "file_extension": ".py",
   "mimetype": "text/x-python",
   "name": "python",
   "nbconvert_exporter": "python",
   "pygments_lexer": "ipython3",
   "version": "3.7.0"
  }
 },
 "nbformat": 4,
 "nbformat_minor": 4
}
