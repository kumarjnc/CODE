{
 "cells": [
  {
   "cell_type": "markdown",
   "metadata": {},
   "source": [
    "<p>This is the python3 script to calculte the dispersion, density of state, and entropy of the non-interacting Lieb lattice<p> $$\\mathcal{\\hat H}_0 = \\sum_{i,j,\\alpha,\\beta,\\sigma} K_{\\alpha,\\beta}(i-j) \\hat{c}^\\dagger_{{i}\\alpha\\sigma} \\hat{c}_{j\\beta\\sigma}$$ \n",
    "    \n",
    "    \n",
    "  <p>where<p>\n",
    "                  $$\\begin{split}\n",
    "           \\widetilde{K}(k) = t\\begin{pmatrix}\n",
    "0 & 1 + e^{ik_1}& 1 + e^{ik_2} \\\\ \n",
    "1 + e^{-ik_1} & 0 & 0 \\\\\n",
    "1 + e^{-ik_2} & 0 & 0\n",
    "\\end{pmatrix}\\,.\n",
    "\\end{split}$$"
   ]
  },
  {
   "cell_type": "code",
   "execution_count": 4,
   "metadata": {},
   "outputs": [
    {
     "name": "stdout",
     "output_type": "stream",
     "text": [
      "1.0\n",
      "1.0 0.0 1.0 20\n",
      "Band structure plot of the Lieb lattice (a decorated lattice) with nearest and next nearest neighbour hopping......\n",
      "3.008181018627461\n"
     ]
    }
   ],
   "source": [
    "#! /bin/bash/python3\n",
    "import numpy as np # \n",
    "from numpy import tile\n",
    "import matplotlib.pyplot as plt\n",
    "#from numpy import linalg as LA\n",
    "from scipy import linalg as LA\n",
    "import math,cmath\n",
    "pi = math.pi\n",
    "cos = math.cos\n",
    "sin = math.sin\n",
    "#exp = cmath.exp\n",
    "exp=np.exp\n",
    "sqrt = math.sqrt\n",
    "#log=math.log\n",
    "log=np.log\n",
    "from numpy.linalg import inv\n",
    "from numpy import zeros\n",
    "import lieb\n",
    "\n",
    "# Now you can call defined function that module as follows\n",
    "t1=1.0\n",
    "t2=0.0\n",
    "a=1.0\n",
    "Nk=20\n",
    "mass=0.0\n",
    "dim=0.0\n",
    "totomega=400\n",
    "energy=-.01\n",
    "print (t1)\n",
    "#Ef=25.0\n",
    "#temp=0.5\n",
    "lieb.band(t1,t2,a,Nk,mass,dim,totomega,square=False)\n",
    "#for temp in range(1,100):\n",
    "#\tg=square.fermi(energy , 0.0 , temp)\n",
    "#\tprint temp, g\n",
    "\n",
    "\n"
   ]
  },
  {
   "cell_type": "code",
   "execution_count": null,
   "metadata": {},
   "outputs": [],
   "source": []
  }
 ],
 "metadata": {
  "anaconda-cloud": {},
  "kernelspec": {
   "display_name": "Python 3",
   "language": "python",
   "name": "python3"
  },
  "language_info": {
   "codemirror_mode": {
    "name": "ipython",
    "version": 3
   },
   "file_extension": ".py",
   "mimetype": "text/x-python",
   "name": "python",
   "nbconvert_exporter": "python",
   "pygments_lexer": "ipython3",
   "version": "3.7.0"
  }
 },
 "nbformat": 4,
 "nbformat_minor": 4
}
